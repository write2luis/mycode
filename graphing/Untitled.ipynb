{
 "cells": [
  {
   "cell_type": "code",
   "execution_count": 3,
   "id": "e6b7293f-d65b-4f2a-9cfb-65e65f00d09d",
   "metadata": {},
   "outputs": [],
   "source": [
    "#!/usr/bin/python3\n",
    "\"\"\"Alta3 Research | treich@alta3.com\n",
    "Creating a histogram plot using Matplotlib and Numpy\"\"\"\n",
    "\n",
    "import numpy as np\n",
    "import matplotlib\n",
    "import matplotlib.pyplot as plt\n",
    "matplotlib.use('Agg') # used to render graphs to files\n",
    "\n",
    "def main():\n",
    "  # Generate a numpy array to represent normally distributed test grades for 100 students\n",
    "  grades = np.random.normal(75, 10, 100)\n",
    "\n",
    "  # Create a histogram using bins from 0-100 spaced 10 apart\n",
    "  plt.hist(grades,\n",
    "           bins=np.arange(0, 101, 10),  # defines bin edges, including left and right edge\n",
    "           linewidth=0.5,               \n",
    "           edgecolor=\"white\")\n",
    "\n",
    "  # Customize plot with labels and axis ticks that align with the bins\n",
    "  plt.title(\"Test Grades Distribution for 100 Students\")\n",
    "  plt.xticks(np.arange(0,101,10))\n",
    "  plt.xlabel(\"Test Score\")\n",
    "  plt.ylabel(\"Number of Students\")\n",
    "\n",
    "  # Save the graph locally and to the static folder\n",
    "  plt.savefig(\"/home/student/mycode/graphing/grades_hist.png\")\n",
    "  plt.savefig(\"/home/student/static/grades_hist.png\")\n",
    "  \n",
    "if __name__ == \"__main__\":\n",
    "   main()"
   ]
  },
  {
   "cell_type": "code",
   "execution_count": 2,
   "id": "6b764c57-faf5-433a-bdc1-483830bc7c8d",
   "metadata": {},
   "outputs": [
    {
     "data": {
      "text/plain": [
       "<function matplotlib.pyplot.show(*, block=None)>"
      ]
     },
     "execution_count": 2,
     "metadata": {},
     "output_type": "execute_result"
    }
   ],
   "source": [
    "plt.show\n"
   ]
  },
  {
   "cell_type": "code",
   "execution_count": null,
   "id": "4720ae8b-8253-455b-8762-ddea90e4b5dd",
   "metadata": {},
   "outputs": [],
   "source": []
  }
 ],
 "metadata": {
  "kernelspec": {
   "display_name": "Python 3 (ipykernel)",
   "language": "python",
   "name": "python3"
  },
  "language_info": {
   "codemirror_mode": {
    "name": "ipython",
    "version": 3
   },
   "file_extension": ".py",
   "mimetype": "text/x-python",
   "name": "python",
   "nbconvert_exporter": "python",
   "pygments_lexer": "ipython3",
   "version": "3.10.6"
  }
 },
 "nbformat": 4,
 "nbformat_minor": 5
}
