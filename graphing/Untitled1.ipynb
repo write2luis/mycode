{
 "cells": [
  {
   "cell_type": "code",
   "execution_count": 4,
   "id": "d22910c4-c2c9-440b-a21e-06664269876e",
   "metadata": {},
   "outputs": [],
   "source": [
    "#!/usr/bin/python3\n",
    "\"\"\"Alta3 Research | treich@alta3.com\n",
    "Creating a histogram plot using Matplotlib and Numpy\"\"\"\n",
    "\n",
    "import numpy as np\n",
    "import matplotlib\n",
    "import matplotlib.pyplot as plt\n",
    "matplotlib.use('Agg') # used to render graphs to files\n",
    "\n",
    "def main():\n",
    "  # Generate a numpy array to represent normally distributed test grades for 100 students\n",
    "  grades = np.random.normal(75, 10, 100)\n",
    "\n",
    "  # Create a histogram using bins from 0-100 spaced 10 apart\n",
    "  plt.hist(grades,\n",
    "           bins=np.arange(0, 101, 10),  # defines bin edges, including left and right edge\n",
    "           linewidth=0.5,               \n",
    "           edgecolor=\"white\")\n",
    "plt.show()\n"
   ]
  }
 ],
 "metadata": {
  "kernelspec": {
   "display_name": "Python 3 (ipykernel)",
   "language": "python",
   "name": "python3"
  },
  "language_info": {
   "codemirror_mode": {
    "name": "ipython",
    "version": 3
   },
   "file_extension": ".py",
   "mimetype": "text/x-python",
   "name": "python",
   "nbconvert_exporter": "python",
   "pygments_lexer": "ipython3",
   "version": "3.10.6"
  }
 },
 "nbformat": 4,
 "nbformat_minor": 5
}
